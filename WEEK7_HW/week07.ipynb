{
 "cells": [
  {
   "cell_type": "markdown",
   "id": "d7b42540",
   "metadata": {},
   "source": [
    "# Week 7\n",
    "\n",
    "By Saira Chawla"
   ]
  },
  {
   "cell_type": "markdown",
   "id": "2cdc5262",
   "metadata": {},
   "source": [
    "### Table of Contents"
   ]
  },
  {
   "cell_type": "markdown",
   "id": "efbc6e94",
   "metadata": {},
   "source": [
    "1. [Dealing with characters and strings](#bullet1)\n",
    "2. [Print function](#bullet2)\n",
    "3. [Count number of characters](#bullet3)\n",
    "4. [String manipulation](#bullet4)\n",
    "5. [String manipulation with Regex](#bullet5)\n",
    "6. [Cheatsheet](#bullet6)"
   ]
  },
  {
   "cell_type": "markdown",
   "id": "a01e8b9e",
   "metadata": {},
   "source": [
    "## 1. Dealing with characters and strings <a class=\"anchor\" id=\"bullet1\"></a>"
   ]
  },
  {
   "cell_type": "code",
   "execution_count": 2,
   "id": "b424f8b8",
   "metadata": {},
   "outputs": [],
   "source": [
    "# use quotation marks to assign a string/char to an object\n",
    "\n",
    "a = \"learning to create\"\n",
    "b = \"a\"\n",
    "c = \"character string\"\n",
    "d = 3.14\n",
    "\n",
    "## ''/\"\" are almost synonymous "
   ]
  },
  {
   "cell_type": "code",
   "execution_count": 3,
   "id": "57da0da3",
   "metadata": {},
   "outputs": [],
   "source": [
    "# test if strings are strings with type()\n",
    "# convert strings to str with str()"
   ]
  },
  {
   "cell_type": "code",
   "execution_count": 4,
   "id": "e220e336",
   "metadata": {},
   "outputs": [
    {
     "name": "stdout",
     "output_type": "stream",
     "text": [
      "<class 'str'>\n",
      "<class 'str'>\n",
      "<class 'str'>\n",
      "<class 'float'>\n"
     ]
    }
   ],
   "source": [
    "print(type(a))\n",
    "print(type(b))\n",
    "print(type(c))\n",
    "print(type(d))"
   ]
  },
  {
   "cell_type": "code",
   "execution_count": 5,
   "id": "2eea23aa",
   "metadata": {},
   "outputs": [
    {
     "name": "stdout",
     "output_type": "stream",
     "text": [
      "3.14\n",
      "<class 'str'>\n"
     ]
    }
   ],
   "source": [
    "d = str(d)\n",
    "print(d)\n",
    "print(type(d))"
   ]
  },
  {
   "cell_type": "markdown",
   "id": "833cb4de",
   "metadata": {},
   "source": [
    "Ways to combine strings:"
   ]
  },
  {
   "cell_type": "code",
   "execution_count": 6,
   "id": "b3e8dfdd",
   "metadata": {},
   "outputs": [
    {
     "data": {
      "text/plain": [
       "'learning to createacharacter string'"
      ]
     },
     "execution_count": 6,
     "metadata": {},
     "output_type": "execute_result"
    }
   ],
   "source": [
    "a + b + c"
   ]
  },
  {
   "cell_type": "code",
   "execution_count": 7,
   "id": "12222694",
   "metadata": {},
   "outputs": [
    {
     "data": {
      "text/plain": [
       "'learning to create a character string'"
      ]
     },
     "execution_count": 7,
     "metadata": {},
     "output_type": "execute_result"
    }
   ],
   "source": [
    "a + ' ' + b + ' ' + c\n",
    "## the join operator combines strings with a separator"
   ]
  },
  {
   "cell_type": "code",
   "execution_count": 8,
   "id": "58c16ad6",
   "metadata": {},
   "outputs": [
    {
     "ename": "TypeError",
     "evalue": "can only concatenate str (not \"int\") to str",
     "output_type": "error",
     "traceback": [
      "\u001b[0;31m---------------------------------------------------------------------------\u001b[0m",
      "\u001b[0;31mTypeError\u001b[0m                                 Traceback (most recent call last)",
      "Cell \u001b[0;32mIn [8], line 3\u001b[0m\n\u001b[1;32m      1\u001b[0m \u001b[38;5;66;03m### to use the + operator for string concatenation, the args must be a string\u001b[39;00m\n\u001b[1;32m      2\u001b[0m \u001b[38;5;66;03m### i.e. -\u001b[39;00m\n\u001b[0;32m----> 3\u001b[0m \u001b[38;5;124;43m'\u001b[39;49m\u001b[38;5;124;43mhello\u001b[39;49m\u001b[38;5;124;43m'\u001b[39;49m\u001b[43m \u001b[49m\u001b[38;5;241;43m+\u001b[39;49m\u001b[43m \u001b[49m\u001b[38;5;241;43m4\u001b[39;49m\n",
      "\u001b[0;31mTypeError\u001b[0m: can only concatenate str (not \"int\") to str"
     ]
    }
   ],
   "source": [
    "### to use the + operator for string concatenation, the args must be a string\n",
    "### i.e. -\n",
    "\n",
    "'hello' + 4\n",
    "\n",
    "### The error demenstrates str can not concatenate with integer"
   ]
  },
  {
   "cell_type": "code",
   "execution_count": 9,
   "id": "e254431b",
   "metadata": {},
   "outputs": [
    {
     "data": {
      "text/plain": [
       "'hello4'"
      ]
     },
     "execution_count": 9,
     "metadata": {},
     "output_type": "execute_result"
    }
   ],
   "source": [
    "### thus, must do -\n",
    "\"hello\" + str(4)"
   ]
  },
  {
   "cell_type": "code",
   "execution_count": 10,
   "id": "df00c856",
   "metadata": {},
   "outputs": [
    {
     "data": {
      "text/plain": [
       "'learning to create a character string 3.14'"
      ]
     },
     "execution_count": 10,
     "metadata": {},
     "output_type": "execute_result"
    }
   ],
   "source": [
    "### join() function\n",
    "\" \".join([a, b, c, d])"
   ]
  },
  {
   "cell_type": "markdown",
   "id": "02cb956f",
   "metadata": {},
   "source": [
    "The join function and + operator are the common ways you'll use to combine strings. However, there are three more ways to combine strings that are older versions. Link to resource: https://www.digitalocean.com/community/tutorials/python-string-concatenation"
   ]
  },
  {
   "cell_type": "markdown",
   "id": "ffbfc912",
   "metadata": {},
   "source": [
    "## 2. Print function<a class=\"anchor\" id=\"bullet2\"></a>"
   ]
  },
  {
   "cell_type": "code",
   "execution_count": 11,
   "id": "0f5e07d7",
   "metadata": {},
   "outputs": [
    {
     "name": "stdout",
     "output_type": "stream",
     "text": [
      "learning to create a character string 3.14\n"
     ]
    }
   ],
   "source": [
    "##NICK- i feel like the print function is pretty explanatory, the only thing i would note is\n",
    "##that a print function returns None, but I am unsure how to demonstrate that\n",
    "print(\" \".join([a, b, c, d]))"
   ]
  },
  {
   "cell_type": "code",
   "execution_count": 12,
   "id": "4ff4a605",
   "metadata": {},
   "outputs": [],
   "source": [
    "##NICK- secondly, marco demonstrates how to use R's print function to write to a file\n",
    "## I am not sure what the equivalent of that is as I have only written to CSVs "
   ]
  },
  {
   "cell_type": "markdown",
   "id": "808ca187",
   "metadata": {},
   "source": [
    "## 3. Count number of characters<a class=\"anchor\" id=\"bullet3\"></a>"
   ]
  },
  {
   "cell_type": "code",
   "execution_count": 13,
   "id": "a2144beb",
   "metadata": {},
   "outputs": [
    {
     "data": {
      "text/plain": [
       "1"
      ]
     },
     "execution_count": 13,
     "metadata": {},
     "output_type": "execute_result"
    }
   ],
   "source": [
    "# one character has lenth 1\n",
    "len(b)"
   ]
  },
  {
   "cell_type": "markdown",
   "id": "eb8acb95",
   "metadata": {},
   "source": [
    "## 4. String Manipulation<a class=\"anchor\" id=\"bullet4\"></a>"
   ]
  },
  {
   "cell_type": "code",
   "execution_count": 14,
   "id": "7871b677",
   "metadata": {},
   "outputs": [],
   "source": [
    "x = \"Learning To MANIPULATE strinGS in Python\""
   ]
  },
  {
   "cell_type": "code",
   "execution_count": 15,
   "id": "ae8ca1fe",
   "metadata": {},
   "outputs": [
    {
     "name": "stdout",
     "output_type": "stream",
     "text": [
      "learning to manipulate strings in python\n",
      "LEARNING TO MANIPULATE STRINGS IN PYTHON\n"
     ]
    }
   ],
   "source": [
    "# what does this do?\n",
    "print(x.lower())\n",
    "print(x.upper())"
   ]
  },
  {
   "cell_type": "code",
   "execution_count": 16,
   "id": "40c5e677",
   "metadata": {},
   "outputs": [
    {
     "data": {
      "text/plain": [
       "'a'"
      ]
     },
     "execution_count": 16,
     "metadata": {},
     "output_type": "execute_result"
    }
   ],
   "source": [
    "# extract the 3rd character in string\n",
    "x[2]"
   ]
  },
  {
   "cell_type": "code",
   "execution_count": 17,
   "id": "90831fad",
   "metadata": {},
   "outputs": [
    {
     "data": {
      "text/plain": [
       "'MANIPULATE'"
      ]
     },
     "execution_count": 17,
     "metadata": {},
     "output_type": "execute_result"
    }
   ],
   "source": [
    "# extract multiple characters/a substring in a string\n",
    "x[12:22]"
   ]
  },
  {
   "cell_type": "code",
   "execution_count": 18,
   "id": "950757b1",
   "metadata": {},
   "outputs": [
    {
     "data": {
      "text/plain": [
       "'Learning To change strinGS in Python'"
      ]
     },
     "execution_count": 18,
     "metadata": {},
     "output_type": "execute_result"
    }
   ],
   "source": [
    "# replace a character/substring\n",
    "x.replace('MANIPULATE', 'change')"
   ]
  },
  {
   "cell_type": "code",
   "execution_count": 19,
   "id": "91ebf8e9",
   "metadata": {},
   "outputs": [
    {
     "data": {
      "text/plain": [
       "['Learning', 'To', 'MANIPULATE', 'strinGS', 'in', 'Python']"
      ]
     },
     "execution_count": 19,
     "metadata": {},
     "output_type": "execute_result"
    }
   ],
   "source": [
    "# split elements of a string\n",
    "x.split()"
   ]
  },
  {
   "cell_type": "code",
   "execution_count": 20,
   "id": "69a5c4b5",
   "metadata": {},
   "outputs": [
    {
     "data": {
      "text/plain": [
       "['Alabama', 'Alaska', 'Arizona', 'Arkansas', 'California']"
      ]
     },
     "execution_count": 20,
     "metadata": {},
     "output_type": "execute_result"
    }
   ],
   "source": [
    "y = \"Alabama-Alaska-Arizona-Arkansas-California\"\n",
    "y.split(sep='-')"
   ]
  },
  {
   "cell_type": "markdown",
   "id": "e94f9628",
   "metadata": {},
   "source": [
    "##NICK- there is no equivalent of stringr in python\n",
    " https://community.alteryx.com/t5/Data-Science/Moving-from-R-to-Python-The-Libraries-You-Need-to-Know/ba-p/139042"
   ]
  },
  {
   "cell_type": "markdown",
   "id": "0fe3a9de",
   "metadata": {},
   "source": [
    "## 5. String manipulation with Regex<a class=\"anchor\" id=\"bullet5\"></a>"
   ]
  },
  {
   "cell_type": "markdown",
   "id": "68fef27a",
   "metadata": {},
   "source": [
    "Regex is a universal string manipulation library. The equivalent in R is called stringr."
   ]
  },
  {
   "cell_type": "code",
   "execution_count": 21,
   "id": "29702131",
   "metadata": {},
   "outputs": [],
   "source": [
    "import regex as re"
   ]
  },
  {
   "cell_type": "code",
   "execution_count": 22,
   "id": "831f4220",
   "metadata": {},
   "outputs": [
    {
     "data": {
      "text/plain": [
       "'I love Python'"
      ]
     },
     "execution_count": 22,
     "metadata": {},
     "output_type": "execute_result"
    }
   ],
   "source": [
    "# substitute characters examples\n",
    "re.sub(pattern=\"R\", repl='Python', string='I love R')"
   ]
  },
  {
   "cell_type": "code",
   "execution_count": 23,
   "id": "99c5538f",
   "metadata": {},
   "outputs": [
    {
     "data": {
      "text/plain": [
       "'I love Python!'"
      ]
     },
     "execution_count": 23,
     "metadata": {},
     "output_type": "execute_result"
    }
   ],
   "source": [
    "re.sub(\"\\\\$\", \"!\", \"I love Python$\")"
   ]
  },
  {
   "cell_type": "code",
   "execution_count": 24,
   "id": "b7dbf4bc",
   "metadata": {},
   "outputs": [
    {
     "data": {
      "text/plain": [
       "'I need space'"
      ]
     },
     "execution_count": 24,
     "metadata": {},
     "output_type": "execute_result"
    }
   ],
   "source": [
    "re.sub(\"\\\\\\\\\", \" \", \"I\\\\need\\\\space\")"
   ]
  },
  {
   "cell_type": "code",
   "execution_count": 25,
   "id": "420f77e6",
   "metadata": {},
   "outputs": [
    {
     "data": {
      "text/plain": [
       "\"I'm working in Python _.__._\""
      ]
     },
     "execution_count": 25,
     "metadata": {},
     "output_type": "execute_result"
    }
   ],
   "source": [
    "# substitute any type of character\n",
    "re.sub(\"\\\\d\", \"_\", \"I'm working in Python 3.10.2\")"
   ]
  },
  {
   "cell_type": "code",
   "execution_count": 26,
   "id": "9a71688a",
   "metadata": {},
   "outputs": [
    {
     "data": {
      "text/plain": [
       "'______________________3_10_2'"
      ]
     },
     "execution_count": 26,
     "metadata": {},
     "output_type": "execute_result"
    }
   ],
   "source": [
    "re.sub(\"\\\\D\", \"_\", \"I'm working in Python 3.10.2\")"
   ]
  },
  {
   "cell_type": "code",
   "execution_count": 27,
   "id": "00c0044c",
   "metadata": {},
   "outputs": [],
   "source": [
    "##NICK- not sure what the equivalent of grep is in python, seems like the function\n",
    "##matches the elements from a vector that match a pattern"
   ]
  },
  {
   "cell_type": "code",
   "execution_count": 28,
   "id": "d93264b9",
   "metadata": {},
   "outputs": [],
   "source": [
    "x = \"I like beer! #beer, @wheres_my_beer, I like R (v3.2.2) #rrrrrrr2015\""
   ]
  },
  {
   "cell_type": "code",
   "execution_count": 29,
   "id": "a4b61ff2",
   "metadata": {},
   "outputs": [
    {
     "data": {
      "text/plain": [
       "'Ilikebeer!#beer,@wheres_my_beer,IlikeR(v3.2.2)#rrrrrrr2015'"
      ]
     },
     "execution_count": 29,
     "metadata": {},
     "output_type": "execute_result"
    }
   ],
   "source": [
    "# remove space or tabs\n",
    "re.sub(\"[[:blank:]]\",\"\", x)"
   ]
  },
  {
   "cell_type": "code",
   "execution_count": 30,
   "id": "1a4a5404",
   "metadata": {},
   "outputs": [
    {
     "data": {
      "text/plain": [
       "'I like beer   beer   wheres my beer  I like R  v3 2 2   rrrrrrr2015'"
      ]
     },
     "execution_count": 30,
     "metadata": {},
     "output_type": "execute_result"
    }
   ],
   "source": [
    "# replace punctuation with whitespace\n",
    "re.sub(pattern = \"[[:punct:]]\", repl = \" \", string=x)"
   ]
  },
  {
   "cell_type": "code",
   "execution_count": 31,
   "id": "9ad06e7d",
   "metadata": {},
   "outputs": [
    {
     "data": {
      "text/plain": [
       "'  ! #, @__,    (..) #'"
      ]
     },
     "execution_count": 31,
     "metadata": {},
     "output_type": "execute_result"
    }
   ],
   "source": [
    "# remove alphanumeric characters\n",
    "re.sub(\"[[:alnum:]]\",\"\", x)"
   ]
  },
  {
   "cell_type": "code",
   "execution_count": 32,
   "id": "e0d56460",
   "metadata": {},
   "outputs": [
    {
     "data": {
      "text/plain": [
       "'IlikebeerbeerwheresmybeerIlikeRv322rrrrrrr2015'"
      ]
     },
     "execution_count": 32,
     "metadata": {},
     "output_type": "execute_result"
    }
   ],
   "source": [
    "# use ^ for negation\n",
    "re.sub(\"[^[:alnum:]]\",\"\", x)"
   ]
  },
  {
   "cell_type": "code",
   "execution_count": 33,
   "id": "cff3ff6b",
   "metadata": {},
   "outputs": [],
   "source": [
    "##NICK- the rest of this part of marco's code focuses on grep examples"
   ]
  },
  {
   "cell_type": "code",
   "execution_count": 1,
   "id": "fe7f9a3f",
   "metadata": {},
   "outputs": [
    {
     "ename": "SyntaxError",
     "evalue": "EOL while scanning string literal (1329854822.py, line 3)",
     "output_type": "error",
     "traceback": [
      "\u001b[0;36m  File \u001b[0;32m\"/var/folders/4q/pz0cqqsn3_lgnx3f3rwzzmrr0000gn/T/ipykernel_87574/1329854822.py\"\u001b[0;36m, line \u001b[0;32m3\u001b[0m\n\u001b[0;31m    locations = [\"New York\", \"D.C.\", \"Baltimore\", \"Atlanta\", \"Miami, 'Dallas', 'San Francisco', 'San Diego',\u001b[0m\n\u001b[0m                                                                                                            ^\u001b[0m\n\u001b[0;31mSyntaxError\u001b[0m\u001b[0;31m:\u001b[0m EOL while scanning string literal\n"
     ]
    }
   ],
   "source": [
    "## detecting patterns\n",
    "## ATTEMPT AT MY EQUIVALENT OF GREP, it didn't work \n",
    "locations = [\"New York\", \"D.C.\", \"Baltimore\", \"Atlanta\", \"Miami\", \"Dallas\", \"San Francisco\", \"San Diego\",\n",
    "            \"San Antonio\", \"Detroit\", \"Chicago\"]\n",
    "re.search(\"New\", locations)"
   ]
  },
  {
   "cell_type": "markdown",
   "id": "3df319d3",
   "metadata": {},
   "source": [
    "## 6. Cheatsheet<a class=\"anchor\" id=\"bullet6\"></a>\n",
    "It is impossible to memorize the entire regex library and what everything stands for, so it is good to keep a solid cheatsheet on hand. https://cheatography.com/davechild/cheat-sheets/regular-expressions/"
   ]
  },
  {
   "cell_type": "code",
   "execution_count": 35,
   "id": "f87879f8",
   "metadata": {},
   "outputs": [],
   "source": [
    "##Final notes, I feel like it is important to demonstrate re.search, re.find, re.match, etc\n",
    "##Regex is a universal language, but I don't think it translates well from R to Python as the \n",
    "##functionality of the languages are different. "
   ]
  },
  {
   "cell_type": "code",
   "execution_count": null,
   "id": "99b08dfb",
   "metadata": {},
   "outputs": [],
   "source": []
  }
 ],
 "metadata": {
  "kernelspec": {
   "display_name": "Python 3 (ipykernel)",
   "language": "python",
   "name": "python3"
  },
  "language_info": {
   "codemirror_mode": {
    "name": "ipython",
    "version": 3
   },
   "file_extension": ".py",
   "mimetype": "text/x-python",
   "name": "python",
   "nbconvert_exporter": "python",
   "pygments_lexer": "ipython3",
   "version": "3.9.13"
  }
 },
 "nbformat": 4,
 "nbformat_minor": 5
}
